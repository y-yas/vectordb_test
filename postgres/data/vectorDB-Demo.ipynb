{
 "cells": [
  {
   "cell_type": "markdown",
   "id": "2d708505-a4d9-4f9d-b856-e9f49a0a0e89",
   "metadata": {},
   "source": [
    "# DBへ接続"
   ]
  },
  {
   "cell_type": "code",
   "execution_count": 1,
   "id": "a84e31e0-a7f4-4870-bbe3-b87b3e6a2333",
   "metadata": {},
   "outputs": [
    {
     "data": {
      "text/plain": [
       "33"
      ]
     },
     "execution_count": 1,
     "metadata": {},
     "output_type": "execute_result"
    }
   ],
   "source": [
    "import psycopg2\n",
    "\n",
    "connection = psycopg2.connect(host=\"pgdb\", database=\"postgres\", user=\"postgres\",password=\"postgres\")\n",
    "connection.get_backend_pid()"
   ]
  },
  {
   "cell_type": "code",
   "execution_count": 2,
   "id": "9856ae0e-5af0-4d20-9082-eb81f2bdd348",
   "metadata": {},
   "outputs": [],
   "source": [
    "cur = connection.cursor()"
   ]
  },
  {
   "cell_type": "markdown",
   "id": "4a0056a8-4405-428b-b535-6d55048898a5",
   "metadata": {},
   "source": [
    "# データ参照"
   ]
  },
  {
   "cell_type": "markdown",
   "id": "d64dfec3-b9f0-40d5-8fcc-a66bc0d66470",
   "metadata": {},
   "source": [
    "3次元のベクトルデータを含むテーブル"
   ]
  },
  {
   "cell_type": "code",
   "execution_count": 3,
   "id": "fd276f02-47dd-49ba-a94e-1668e39371e9",
   "metadata": {},
   "outputs": [
    {
     "data": {
      "text/plain": [
       "[(1, '[1,2,3]'),\n",
       " (2, '[4,5,6]'),\n",
       " (3, '[7,8,9]'),\n",
       " (4, '[0,1,2]'),\n",
       " (5, '[3,4,5]'),\n",
       " (6, '[6,7,8]'),\n",
       " (7, '[9,0,1]'),\n",
       " (8, '[2,3,4]'),\n",
       " (9, '[5,6,7]'),\n",
       " (10, '[8,9,0]')]"
      ]
     },
     "execution_count": 3,
     "metadata": {},
     "output_type": "execute_result"
    }
   ],
   "source": [
    "cur.execute(\" SELECT * FROM items;\")\n",
    "cur.fetchall()"
   ]
  },
  {
   "cell_type": "markdown",
   "id": "42adf169-faf1-4281-88f5-22e2f9888cee",
   "metadata": {},
   "source": [
    "# ユーグリッド距離検索"
   ]
  },
  {
   "cell_type": "code",
   "execution_count": 10,
   "id": "77bddeb5-30c7-4ce3-8306-46ad0ac84735",
   "metadata": {},
   "outputs": [
    {
     "data": {
      "text/plain": [
       "[(1, '[1,2,3]', 2.449489742783178),\n",
       " (4, '[0,1,2]', 3.0),\n",
       " (8, '[2,3,4]', 3.0),\n",
       " (5, '[3,4,5]', 4.242640687119285),\n",
       " (2, '[4,5,6]', 5.744562646538029)]"
      ]
     },
     "execution_count": 10,
     "metadata": {},
     "output_type": "execute_result"
    }
   ],
   "source": [
    "cur.execute(\"SELECT *, embedding <-> '[3,1,2]' AS l2_distance FROM items ORDER BY l2_distance LIMIT 5;\")\n",
    "cur.fetchall()"
   ]
  },
  {
   "cell_type": "markdown",
   "id": "92723656-2de4-43c2-9917-a5c115762519",
   "metadata": {},
   "source": [
    "# 内積検索"
   ]
  },
  {
   "cell_type": "code",
   "execution_count": 12,
   "id": "57a98b69-beb1-4bfb-a618-47eb8e87873b",
   "metadata": {},
   "outputs": [
    {
     "data": {
      "text/plain": [
       "[(4, '[0,1,2]', 5.0),\n",
       " (1, '[1,2,3]', 11.0),\n",
       " (8, '[2,3,4]', 17.0),\n",
       " (5, '[3,4,5]', 23.0),\n",
       " (7, '[9,0,1]', 29.0)]"
      ]
     },
     "execution_count": 12,
     "metadata": {},
     "output_type": "execute_result"
    }
   ],
   "source": [
    "cur.execute(\"SELECT *, (embedding <#> '[3,1,2]') * -1 AS inner_product FROM items ORDER BY inner_product LIMIT 5;\")\n",
    "cur.fetchall()"
   ]
  },
  {
   "cell_type": "markdown",
   "id": "53267975-84f0-43e9-9b80-c1c54748589e",
   "metadata": {},
   "source": [
    "# コサイン類似度"
   ]
  },
  {
   "cell_type": "code",
   "execution_count": 8,
   "id": "95f3d36b-fcdf-491a-a942-0e2934c63f98",
   "metadata": {},
   "outputs": [
    {
     "data": {
      "text/plain": [
       "[(4, '[0,1,2]', 0.40451991747794525),\n",
       " (1, '[1,2,3]', 0.6446583712203042),\n",
       " (8, '[2,3,4]', 0.7278602642426106),\n",
       " (5, '[3,4,5]', 0.7675225788801975),\n",
       " (2, '[4,5,6]', 0.7902893526556569)]"
      ]
     },
     "execution_count": 8,
     "metadata": {},
     "output_type": "execute_result"
    }
   ],
   "source": [
    "cur.execute(\"SELECT *, 1 - (embedding <=> '[3,1,1]') AS cosine_similarity FROM items ORDER BY cosine_similarity LIMIT 5;\")\n",
    "cur.fetchall()"
   ]
  },
  {
   "cell_type": "code",
   "execution_count": null,
   "id": "a038d0fb-7df7-40dd-b1b2-9400b274e056",
   "metadata": {},
   "outputs": [],
   "source": [
    "cur.close()\n",
    "conn.close()"
   ]
  }
 ],
 "metadata": {
  "kernelspec": {
   "display_name": "Python 3 (ipykernel)",
   "language": "python",
   "name": "python3"
  },
  "language_info": {
   "codemirror_mode": {
    "name": "ipython",
    "version": 3
   },
   "file_extension": ".py",
   "mimetype": "text/x-python",
   "name": "python",
   "nbconvert_exporter": "python",
   "pygments_lexer": "ipython3",
   "version": "3.10.12"
  }
 },
 "nbformat": 4,
 "nbformat_minor": 5
}
